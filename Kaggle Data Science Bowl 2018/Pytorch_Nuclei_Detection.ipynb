{
  "nbformat": 4,
  "nbformat_minor": 0,
  "metadata": {
    "colab": {
      "name": "Pytorch_Nuclei_Detection.ipynb",
      "version": "0.3.2",
      "views": {},
      "default_view": {},
      "provenance": [],
      "collapsed_sections": []
    },
    "kernelspec": {
      "name": "python3",
      "display_name": "Python 3"
    }
  },
  "cells": [
    {
      "metadata": {
        "id": "oNRFO84nybuG",
        "colab_type": "code",
        "colab": {
          "autoexec": {
            "startup": false,
            "wait_interval": 0
          },
          "output_extras": [
            {
              "item_id": 4
            }
          ],
          "base_uri": "https://localhost:8080/",
          "height": 102
        },
        "outputId": "61def83e-6853-4790-a10c-49353a318c0f",
        "executionInfo": {
          "status": "ok",
          "timestamp": 1519005610986,
          "user_tz": 300,
          "elapsed": 3095,
          "user": {
            "displayName": "Yash Katariya",
            "photoUrl": "//lh4.googleusercontent.com/-nIc8G0wM3yg/AAAAAAAAAAI/AAAAAAAABCs/7nwZUK4IkOo/s50-c-k-no/photo.jpg",
            "userId": "103745912927541201129"
          }
        }
      },
      "cell_type": "code",
      "source": [
        "!pip install tqdm"
      ],
      "execution_count": 1,
      "outputs": [
        {
          "output_type": "stream",
          "text": [
            "Collecting tqdm\n",
            "  Downloading tqdm-4.19.5-py2.py3-none-any.whl (51kB)\n",
            "\u001b[K    100% |████████████████████████████████| 61kB 4.7MB/s \n",
            "\u001b[?25hInstalling collected packages: tqdm\n",
            "Successfully installed tqdm-4.19.5\n"
          ],
          "name": "stdout"
        }
      ]
    },
    {
      "metadata": {
        "id": "Dx_4x8AjyieV",
        "colab_type": "code",
        "colab": {
          "autoexec": {
            "startup": false,
            "wait_interval": 0
          }
        }
      },
      "cell_type": "code",
      "source": [
        "!pip install http://download.pytorch.org/whl/cu80/torch-0.3.0.post4-cp36-cp36m-linux_x86_64.whl && pip install torchvision"
      ],
      "execution_count": 0,
      "outputs": []
    },
    {
      "metadata": {
        "id": "bfZyZyAeyjCu",
        "colab_type": "code",
        "colab": {
          "autoexec": {
            "startup": false,
            "wait_interval": 0
          }
        }
      },
      "cell_type": "code",
      "source": [
        "!pip install h5py"
      ],
      "execution_count": 0,
      "outputs": []
    },
    {
      "metadata": {
        "id": "58WomczsyjFQ",
        "colab_type": "code",
        "colab": {
          "autoexec": {
            "startup": false,
            "wait_interval": 0
          }
        }
      },
      "cell_type": "code",
      "source": [
        "!wget https://www.dropbox.com/s/0k2qz2oqp9e149h/stage1_train.zip && unzip stage1_train.zip -d stage1_train/"
      ],
      "execution_count": 0,
      "outputs": []
    },
    {
      "metadata": {
        "id": "FKsSJxF1yjIK",
        "colab_type": "code",
        "colab": {
          "autoexec": {
            "startup": false,
            "wait_interval": 0
          }
        }
      },
      "cell_type": "code",
      "source": [
        "!wget https://www.dropbox.com/s/ej948r7040sgnof/stage1_test.zip && unzip stage1_test.zip -d stage1_test/"
      ],
      "execution_count": 0,
      "outputs": []
    },
    {
      "metadata": {
        "id": "-Hp8x8MKyjLD",
        "colab_type": "code",
        "colab": {
          "autoexec": {
            "startup": false,
            "wait_interval": 0
          }
        }
      },
      "cell_type": "code",
      "source": [
        "import os\n",
        "import sys\n",
        "import numpy as np\n",
        "import pandas as pd\n",
        "from tqdm import tqdm\n",
        "from itertools import chain\n",
        "from skimage.io import imread, imshow, imread_collection, concatenate_images\n",
        "from skimage.transform import resize\n",
        "from skimage.morphology import label\n",
        "import PIL\n",
        "import pickle\n",
        "\n",
        "from torch import nn, optim\n",
        "from torch.nn import functional as F\n",
        "import torch\n",
        "from torchvision import models\n",
        "from torch.autograd import Variable\n",
        "\n",
        "import matplotlib.pyplot as plt\n",
        "%matplotlib inline"
      ],
      "execution_count": 0,
      "outputs": []
    },
    {
      "metadata": {
        "id": "pGoyaNgXyjON",
        "colab_type": "code",
        "colab": {
          "autoexec": {
            "startup": false,
            "wait_interval": 0
          }
        }
      },
      "cell_type": "code",
      "source": [
        "IMG_WIDTH = 256\n",
        "IMG_HEIGHT = 256\n",
        "IMG_CHANNELS = 3\n",
        "TRAIN_PATH = 'stage1_train/stage1_train/'\n",
        "TEST_PATH = 'stage1_test/stage1_test/'"
      ],
      "execution_count": 0,
      "outputs": []
    },
    {
      "metadata": {
        "id": "UXKvnjlYyjRF",
        "colab_type": "code",
        "colab": {
          "autoexec": {
            "startup": false,
            "wait_interval": 0
          }
        }
      },
      "cell_type": "code",
      "source": [
        "train_ids = next(os.walk(TRAIN_PATH))[1]\n",
        "test_ids = next(os.walk(TEST_PATH))[1]"
      ],
      "execution_count": 0,
      "outputs": []
    },
    {
      "metadata": {
        "id": "RGGwXIHzyjUE",
        "colab_type": "code",
        "colab": {
          "autoexec": {
            "startup": false,
            "wait_interval": 0
          }
        }
      },
      "cell_type": "code",
      "source": [
        "len(train_ids), len(test_ids)"
      ],
      "execution_count": 0,
      "outputs": []
    },
    {
      "metadata": {
        "id": "voJ7A6ZtyjWu",
        "colab_type": "code",
        "colab": {
          "autoexec": {
            "startup": false,
            "wait_interval": 0
          }
        }
      },
      "cell_type": "code",
      "source": [
        ""
      ],
      "execution_count": 0,
      "outputs": []
    },
    {
      "metadata": {
        "id": "xBqlOrSIy3XM",
        "colab_type": "text"
      },
      "cell_type": "markdown",
      "source": [
        "#Creating Train Set"
      ]
    },
    {
      "metadata": {
        "id": "KicP-hdWyjZ6",
        "colab_type": "code",
        "colab": {
          "autoexec": {
            "startup": false,
            "wait_interval": 0
          }
        }
      },
      "cell_type": "code",
      "source": [
        "data = []\n",
        "\n",
        "for i, id_ in tqdm(enumerate(train_ids), total=len(train_ids)):\n",
        "  item = {}\n",
        "  \n",
        "  path = TRAIN_PATH + id_\n",
        "  img = imread(path + '/images/' + id_ + '.png')\n",
        "  img = img[:,:,:IMG_CHANNELS]\n",
        "  img = resize(img, (IMG_HEIGHT, IMG_WIDTH), mode='constant', preserve_range=True)\n",
        "  \n",
        "\n",
        "  mask = np.zeros((IMG_HEIGHT, IMG_WIDTH, 1))\n",
        "  for mask_file in next(os.walk(TRAIN_PATH+id_+'/masks/'))[2]:\n",
        "    mask_ = imread(path + '/masks/' + mask_file)\n",
        "    mask_ = resize(mask_, (IMG_HEIGHT, IMG_WIDTH), mode='constant', preserve_range=True)\n",
        "    mask_ = np.expand_dims(mask_, axis=-1)\n",
        "    mask = np.maximum(mask, mask_)\n",
        "\n",
        "  \n",
        "  item['mask'] = torch.from_numpy(mask).float()\n",
        "  item['img'] = torch.from_numpy(img).float()\n",
        "  \n",
        "  data.append(item)"
      ],
      "execution_count": 0,
      "outputs": []
    },
    {
      "metadata": {
        "id": "ElKMD2nsyjc4",
        "colab_type": "code",
        "colab": {
          "autoexec": {
            "startup": false,
            "wait_interval": 0
          }
        }
      },
      "cell_type": "code",
      "source": [
        "pickle.dump(data, open('data.p', 'wb'))"
      ],
      "execution_count": 0,
      "outputs": []
    },
    {
      "metadata": {
        "id": "mZh_kfppyjf5",
        "colab_type": "code",
        "colab": {
          "autoexec": {
            "startup": false,
            "wait_interval": 0
          }
        }
      },
      "cell_type": "code",
      "source": [
        "data = pickle.load(open('data.p', 'rb'))"
      ],
      "execution_count": 0,
      "outputs": []
    },
    {
      "metadata": {
        "id": "X3v0nzKRyjjF",
        "colab_type": "code",
        "colab": {
          "autoexec": {
            "startup": false,
            "wait_interval": 0
          }
        }
      },
      "cell_type": "code",
      "source": [
        "len(data)"
      ],
      "execution_count": 0,
      "outputs": []
    },
    {
      "metadata": {
        "id": "mFfB0Ra1zBBv",
        "colab_type": "text"
      },
      "cell_type": "markdown",
      "source": [
        "#Creating Test Set"
      ]
    },
    {
      "metadata": {
        "id": "BxIphO4wzDMk",
        "colab_type": "code",
        "colab": {
          "autoexec": {
            "startup": false,
            "wait_interval": 0
          }
        }
      },
      "cell_type": "code",
      "source": [
        "test_data = []\n",
        "sizes_test = []\n",
        "\n",
        "for i, id_ in tqdm(enumerate(test_ids), total=len(test_ids)):\n",
        "  test_item = {}\n",
        "  \n",
        "  test_path = TEST_PATH + id_\n",
        "  \n",
        "  im = imread(test_path + '/images/' + id_ + '.png')\n",
        "  im = im[:,:,:IMG_CHANNELS]\n",
        "  sizes_test.append([im.shape[0], im.shape[1]])\n",
        "  im = resize(im, (IMG_HEIGHT, IMG_WIDTH), mode='constant', preserve_range=True)\n",
        "\n",
        "  test_item['img'] = torch.from_numpy(im).float()\n",
        "  test_data.append(test_item)"
      ],
      "execution_count": 0,
      "outputs": []
    },
    {
      "metadata": {
        "id": "TGytqVkIzFJE",
        "colab_type": "code",
        "colab": {
          "autoexec": {
            "startup": false,
            "wait_interval": 0
          }
        }
      },
      "cell_type": "code",
      "source": [
        "len(test_data)"
      ],
      "execution_count": 0,
      "outputs": []
    },
    {
      "metadata": {
        "id": "VPqiA5bvzFME",
        "colab_type": "code",
        "colab": {
          "autoexec": {
            "startup": false,
            "wait_interval": 0
          }
        }
      },
      "cell_type": "code",
      "source": [
        ""
      ],
      "execution_count": 0,
      "outputs": []
    },
    {
      "metadata": {
        "id": "ziYJF7lQzJxF",
        "colab_type": "text"
      },
      "cell_type": "markdown",
      "source": [
        "#Pytorch Data Loading"
      ]
    },
    {
      "metadata": {
        "id": "y-eGHjDNzFRX",
        "colab_type": "code",
        "colab": {
          "autoexec": {
            "startup": false,
            "wait_interval": 0
          }
        }
      },
      "cell_type": "code",
      "source": [
        "import PIL\n",
        "from torchvision import transforms\n",
        "\n",
        "class Dataset():\n",
        "  def __init__(self, data, source_transform, target_transform):\n",
        "    self.d = data\n",
        "    self.src_transform = source_transform\n",
        "    self.targ_transform = target_transform\n",
        "  \n",
        "  def __getitem__(self, index):\n",
        "    item = self.d[index]\n",
        "    \n",
        "    img = item['img'].numpy()\n",
        "    targ = item['mask'].byte().numpy()\n",
        "    img = self.src_transform(img)\n",
        "    targ = self.targ_transform(targ)\n",
        "    \n",
        "    return img, targ\n",
        "  \n",
        "  def __len__(self):\n",
        "    return len(self.d)\n",
        "  \n",
        "\n",
        "source_transform = transforms.Compose([\n",
        "    #transforms.ToPILImage(),\n",
        "    transforms.ToTensor(),\n",
        "    transforms.Normalize(mean = [0.5,0.5,0.5],std = [0.5,0.5,0.5])\n",
        "])\n",
        "\n",
        "target_transform = transforms.Compose([\n",
        "    #transforms.ToPILImage(),\n",
        "    transforms.ToTensor(),\n",
        "])"
      ],
      "execution_count": 0,
      "outputs": []
    },
    {
      "metadata": {
        "id": "o6sI8cMDzFUX",
        "colab_type": "code",
        "colab": {
          "autoexec": {
            "startup": false,
            "wait_interval": 0
          }
        }
      },
      "cell_type": "code",
      "source": [
        "dataset = Dataset(data, source_transform, target_transform)"
      ],
      "execution_count": 0,
      "outputs": []
    },
    {
      "metadata": {
        "id": "khlry60TzFXi",
        "colab_type": "code",
        "colab": {
          "autoexec": {
            "startup": false,
            "wait_interval": 0
          }
        }
      },
      "cell_type": "code",
      "source": [
        "dataloader = torch.utils.data.DataLoader(dataset, batch_size = 16, shuffle=True)"
      ],
      "execution_count": 0,
      "outputs": []
    },
    {
      "metadata": {
        "id": "bSj6CRevzFaY",
        "colab_type": "code",
        "colab": {
          "autoexec": {
            "startup": false,
            "wait_interval": 0
          }
        }
      },
      "cell_type": "code",
      "source": [
        "for x in dataloader:\n",
        "  print (x)\n",
        "  break"
      ],
      "execution_count": 0,
      "outputs": []
    },
    {
      "metadata": {
        "id": "6YtukIeXzFdS",
        "colab_type": "code",
        "colab": {
          "autoexec": {
            "startup": false,
            "wait_interval": 0
          }
        }
      },
      "cell_type": "code",
      "source": [
        ""
      ],
      "execution_count": 0,
      "outputs": []
    },
    {
      "metadata": {
        "id": "1uFyA6gezFgR",
        "colab_type": "code",
        "colab": {
          "autoexec": {
            "startup": false,
            "wait_interval": 0
          }
        }
      },
      "cell_type": "code",
      "source": [
        ""
      ],
      "execution_count": 0,
      "outputs": []
    },
    {
      "metadata": {
        "id": "QhhRVur6zWJz",
        "colab_type": "text"
      },
      "cell_type": "markdown",
      "source": [
        "#Model"
      ]
    },
    {
      "metadata": {
        "id": "5TAf6oF5zFla",
        "colab_type": "code",
        "colab": {
          "autoexec": {
            "startup": false,
            "wait_interval": 0
          }
        }
      },
      "cell_type": "code",
      "source": [
        "class ConvBlock(nn.Module):\n",
        "  def __init__(self, in_ch, out_ch):\n",
        "    super(ConvBlock, self).__init__()\n",
        "    self.conv1 = nn.Conv2d(in_ch, out_ch, 3, padding=1)\n",
        "    self.conv2 = nn.Conv2d(out_ch, out_ch, 3, padding=1)\n",
        "    \n",
        "  def forward(self, x):\n",
        "    x = F.relu(self.conv1(x))\n",
        "    x = F.relu(self.conv2(x))\n",
        "    return x\n",
        "  \n",
        "  \n",
        "class input_conv(nn.Module):\n",
        "  def __init__(self, in_ch, out_ch):\n",
        "    super(input_conv, self).__init__()\n",
        "    self.inp_conv = ConvBlock(in_ch, out_ch)\n",
        "    \n",
        "  def forward(self, x):\n",
        "    x = self.inp_conv(x)\n",
        "    return x\n",
        "  \n",
        "\n",
        "class up(nn.Module):\n",
        "  def __init__(self, in_ch, out_ch):\n",
        "    super(up, self).__init__()\n",
        "#     self.up_conv = nn.ConvTranspose2d(in_ch, out_ch, kernel_size=2, stride=2)\n",
        "    self.up_conv = nn.Upsample(scale_factor=2, mode='nearest')\n",
        "    self.conv = ConvBlock(in_ch, out_ch)\n",
        "    \n",
        "  def forward(self, x1, x2):\n",
        "    x1 = self.up_conv(x1)\n",
        "    x = torch.cat([x2, x1], dim=1)\n",
        "    x = self.conv(x)\n",
        "    return x\n",
        "    \n",
        "    \n",
        "class down(nn.Module):\n",
        "  def __init__(self, in_ch, out_ch):\n",
        "    super(down, self).__init__()\n",
        "    self.pool = nn.MaxPool2d(2)\n",
        "    self.conv = ConvBlock(in_ch, out_ch)\n",
        "    \n",
        "  def forward(self, x):\n",
        "    x = self.pool(x)\n",
        "    x = self.conv(x)\n",
        "    return x\n",
        "  \n",
        "class Dilations(nn.Module):\n",
        "  def __init__(self, in_ch, out_ch, dil):\n",
        "    super(Dilations, self).__init__()\n",
        "    self.conv_dil = nn.Conv2d(in_ch, out_ch, 3, padding=dil, dilation=dil)\n",
        "    \n",
        "  def forward(self, x):\n",
        "    x = F.relu(self.conv_dil(x))\n",
        "#     print (x.size())\n",
        "    return x\n",
        "  \n",
        "class last_conv(nn.Module):\n",
        "  def __init__(self, in_ch, out_ch):\n",
        "    super(last_conv, self).__init__()\n",
        "    self.conv1 = nn.Conv2d(in_ch, out_ch, 1)\n",
        "    \n",
        "  def forward(self, x):\n",
        "    x = self.conv1(x)\n",
        "    return x"
      ],
      "execution_count": 0,
      "outputs": []
    },
    {
      "metadata": {
        "id": "d3UUlPLKzYfN",
        "colab_type": "code",
        "colab": {
          "autoexec": {
            "startup": false,
            "wait_interval": 0
          }
        }
      },
      "cell_type": "code",
      "source": [
        "class Unet(nn.Module):\n",
        "  def __init__(self, no_channels, no_classes):\n",
        "    super(Unet, self).__init__()\n",
        "    self.inp = input_conv(no_channels, 32)\n",
        "    self.down1 = down(32, 64)\n",
        "    self.down2 = down(64, 128)\n",
        "    self.down3 = down(128, 256)\n",
        "    self.down4 = down(256, 256)\n",
        "    self.dil1 = Dilations(256, 512, 1)\n",
        "    self.dil2 = Dilations(512, 512, 2)\n",
        "    self.dil3 = Dilations(512, 512, 4)\n",
        "    self.dil4 = Dilations(512, 512, 8)\n",
        "    self.dil5 = Dilations(512, 512, 16)\n",
        "    self.dil6 = Dilations(512, 256, 32)\n",
        "    self.up1 = up(512, 128)\n",
        "    self.up2 = up(256, 64)\n",
        "    self.up3 = up(128, 32)\n",
        "    self.up4 = up(64, 32)\n",
        "    self.out = last_conv(32, no_classes)\n",
        "    \n",
        "  def forward(self, x):\n",
        "    x1 = self.inp(x)\n",
        "    x2 = self.down1(x1)\n",
        "    x3 = self.down2(x2)\n",
        "    x4 = self.down3(x3)\n",
        "    x5 = self.down4(x4)\n",
        "    x6 = self.dil1(x5)\n",
        "    x7 = self.dil2(x6)\n",
        "    x8 = self.dil3(x7)\n",
        "    x9 = self.dil4(x8)\n",
        "    x10 = self.dil5(x9)\n",
        "    x11 = self.dil6(x10)\n",
        "    x = self.up1(x11, x4)\n",
        "    x = self.up2(x, x3)\n",
        "    x = self.up3(x, x2)\n",
        "    x = self.up4(x, x1)\n",
        "    x = self.out(x)\n",
        "    x = nn.functional.sigmoid(x)\n",
        "    return x\n",
        "    "
      ],
      "execution_count": 0,
      "outputs": []
    },
    {
      "metadata": {
        "id": "vFAR2ltLzYh-",
        "colab_type": "code",
        "colab": {
          "autoexec": {
            "startup": false,
            "wait_interval": 0
          }
        }
      },
      "cell_type": "code",
      "source": [
        "def Unet_nuclei():\n",
        "  model = Unet(3,1)\n",
        "  return model.cuda()\n",
        "\n",
        "model_pytorch = Unet_nuclei()"
      ],
      "execution_count": 0,
      "outputs": []
    },
    {
      "metadata": {
        "id": "JfEgjvRlzYkr",
        "colab_type": "code",
        "colab": {
          "autoexec": {
            "startup": false,
            "wait_interval": 0
          }
        }
      },
      "cell_type": "code",
      "source": [
        "model_pytorch"
      ],
      "execution_count": 0,
      "outputs": []
    },
    {
      "metadata": {
        "id": "_qJRLXAUzYnS",
        "colab_type": "code",
        "colab": {
          "autoexec": {
            "startup": false,
            "wait_interval": 0
          }
        }
      },
      "cell_type": "code",
      "source": [
        ""
      ],
      "execution_count": 0,
      "outputs": []
    },
    {
      "metadata": {
        "id": "KRKGt3zLzgbp",
        "colab_type": "text"
      },
      "cell_type": "markdown",
      "source": [
        "#Train"
      ]
    },
    {
      "metadata": {
        "id": "YjtGSBfpzYqJ",
        "colab_type": "code",
        "colab": {
          "autoexec": {
            "startup": false,
            "wait_interval": 0
          }
        }
      },
      "cell_type": "code",
      "source": [
        "optimizer = optim.Adam(model_pytorch.parameters(), lr=1e-3)"
      ],
      "execution_count": 0,
      "outputs": []
    },
    {
      "metadata": {
        "id": "AlewkucCzYtB",
        "colab_type": "code",
        "colab": {
          "autoexec": {
            "startup": false,
            "wait_interval": 0
          }
        }
      },
      "cell_type": "code",
      "source": [
        "scheduler = optim.lr_scheduler.StepLR(optimizer, step_size=20, gamma=0.1)"
      ],
      "execution_count": 0,
      "outputs": []
    },
    {
      "metadata": {
        "id": "bOw29bppzYv6",
        "colab_type": "code",
        "colab": {
          "autoexec": {
            "startup": false,
            "wait_interval": 0
          }
        }
      },
      "cell_type": "code",
      "source": [
        "for epoch in range(60):\n",
        "    for x, y in tqdm(dataloader):        \n",
        "        inputs = Variable(x).cuda()\n",
        "        labels = Variable(y).cuda()\n",
        "        \n",
        "        # forward + backward + optimize\n",
        "        optimizer.zero_grad()\n",
        "        #forward pass\n",
        "        outputs = model_pytorch(inputs)\n",
        "        # calculate the loss\n",
        "        loss = nn.BCELoss()(outputs, labels)\n",
        "        # backpropagation\n",
        "        loss.backward()\n",
        "        # Does the update after calculating the gradients\n",
        "        optimizer.step()\n",
        "        \n",
        "        if (i+1) % 5 == 0:\n",
        "            print('[%d, %5d] loss: %.4f' % (epoch, i+1, loss.data[0]))"
      ],
      "execution_count": 0,
      "outputs": []
    },
    {
      "metadata": {
        "id": "qlfJ1dbDzYy4",
        "colab_type": "code",
        "colab": {
          "autoexec": {
            "startup": false,
            "wait_interval": 0
          }
        }
      },
      "cell_type": "code",
      "source": [
        ""
      ],
      "execution_count": 0,
      "outputs": []
    },
    {
      "metadata": {
        "id": "Jq_ShsHUzY2J",
        "colab_type": "code",
        "colab": {
          "autoexec": {
            "startup": false,
            "wait_interval": 0
          }
        }
      },
      "cell_type": "code",
      "source": [
        ""
      ],
      "execution_count": 0,
      "outputs": []
    },
    {
      "metadata": {
        "id": "MyRr3Ym3zrD6",
        "colab_type": "text"
      },
      "cell_type": "markdown",
      "source": [
        "#Loading Test Dataset"
      ]
    },
    {
      "metadata": {
        "id": "BmNYkHl7zsxS",
        "colab_type": "code",
        "colab": {
          "autoexec": {
            "startup": false,
            "wait_interval": 0
          }
        }
      },
      "cell_type": "code",
      "source": [
        "class TestDataset():\n",
        "  def __init__(self, test_data, source_transform):\n",
        "    self.t = test_data\n",
        "    self.src_transform = source_transform\n",
        "    \n",
        "  def __getitem__(self, index):\n",
        "    test_item = self.t[index]\n",
        "    test_img = test_item['img'].numpy()\n",
        "    test_img = self.src_transform(test_img)\n",
        "    \n",
        "    return test_img\n",
        "    \n",
        "  def __len__(self):\n",
        "    return len(self.t)"
      ],
      "execution_count": 0,
      "outputs": []
    },
    {
      "metadata": {
        "id": "F4GBv5_KztDJ",
        "colab_type": "code",
        "colab": {
          "autoexec": {
            "startup": false,
            "wait_interval": 0
          }
        }
      },
      "cell_type": "code",
      "source": [
        "test_dataset = TestDataset(test_data, source_transform)\n",
        "test_dataloader = torch.utils.data.DataLoader(test_dataset, batch_size=16)"
      ],
      "execution_count": 0,
      "outputs": []
    },
    {
      "metadata": {
        "id": "UQif-FlpztGJ",
        "colab_type": "code",
        "colab": {
          "autoexec": {
            "startup": false,
            "wait_interval": 0
          }
        }
      },
      "cell_type": "code",
      "source": [
        ""
      ],
      "execution_count": 0,
      "outputs": []
    },
    {
      "metadata": {
        "id": "r8lKqLV5zyd_",
        "colab_type": "text"
      },
      "cell_type": "markdown",
      "source": [
        "#Testing"
      ]
    },
    {
      "metadata": {
        "id": "3iRJSyfbztJI",
        "colab_type": "code",
        "colab": {
          "autoexec": {
            "startup": false,
            "wait_interval": 0
          }
        }
      },
      "cell_type": "code",
      "source": [
        "model_pytorch = model_pytorch.eval()"
      ],
      "execution_count": 0,
      "outputs": []
    },
    {
      "metadata": {
        "id": "cjDnBiIcztLu",
        "colab_type": "code",
        "colab": {
          "autoexec": {
            "startup": false,
            "wait_interval": 0
          }
        }
      },
      "cell_type": "code",
      "source": [
        "predictions = []\n",
        "for test_x in tqdm(test_dataloader):\n",
        "  inp = Variable(test_x).cuda()\n",
        "  \n",
        "  out = model_pytorch(inp)\n",
        "  predictions.append(out)"
      ],
      "execution_count": 0,
      "outputs": []
    },
    {
      "metadata": {
        "id": "d-Moid4nztOg",
        "colab_type": "code",
        "colab": {
          "autoexec": {
            "startup": false,
            "wait_interval": 0
          }
        }
      },
      "cell_type": "code",
      "source": [
        "predictions[0][1]"
      ],
      "execution_count": 0,
      "outputs": []
    },
    {
      "metadata": {
        "id": "dp15AqECztRI",
        "colab_type": "code",
        "colab": {
          "autoexec": {
            "startup": false,
            "wait_interval": 0
          }
        }
      },
      "cell_type": "code",
      "source": [
        "inp[0]"
      ],
      "execution_count": 0,
      "outputs": []
    },
    {
      "metadata": {
        "id": "Z2b9HocdztUG",
        "colab_type": "code",
        "colab": {
          "autoexec": {
            "startup": false,
            "wait_interval": 0
          }
        }
      },
      "cell_type": "code",
      "source": [
        "imshow(predictions[4][0][0].data.cpu().numpy())"
      ],
      "execution_count": 0,
      "outputs": []
    },
    {
      "metadata": {
        "id": "dcYuGf-lztW5",
        "colab_type": "code",
        "colab": {
          "autoexec": {
            "startup": false,
            "wait_interval": 0
          }
        }
      },
      "cell_type": "code",
      "source": [
        "imshow(inp[0].data.cpu().permute(1,2,0).numpy()*0.5 + 0.5)"
      ],
      "execution_count": 0,
      "outputs": []
    },
    {
      "metadata": {
        "id": "E0thS2byz9jh",
        "colab_type": "code",
        "colab": {
          "autoexec": {
            "startup": false,
            "wait_interval": 0
          }
        }
      },
      "cell_type": "code",
      "source": [
        "preds_test_upsampled = []\n",
        "count = 0\n",
        "for i in range(len(predictions)):\n",
        "  for j in predictions[i]:\n",
        "    temp = j[0].data.cpu().numpy()\n",
        "    preds_test_upsampled.append(resize(temp, (sizes_test[count][0], sizes_test[count][1]), mode='constant', preserve_range=True))\n",
        "    count+=1\n",
        "\n",
        "len(preds_test_upsampled)"
      ],
      "execution_count": 0,
      "outputs": []
    },
    {
      "metadata": {
        "id": "GB8Pd22Wz9mS",
        "colab_type": "code",
        "colab": {
          "autoexec": {
            "startup": false,
            "wait_interval": 0
          }
        }
      },
      "cell_type": "code",
      "source": [
        "def rle_encoding(x):\n",
        "    dots = np.where(x.T.flatten() == 1)[0]\n",
        "    run_lengths = []\n",
        "    prev = -2\n",
        "    for b in dots:\n",
        "        if (b>prev+1): run_lengths.extend((b + 1, 0))\n",
        "        run_lengths[-1] += 1\n",
        "        prev = b\n",
        "    return run_lengths\n",
        "\n",
        "def prob_to_rles(x, cutoff=0.5):\n",
        "    lab_img = label(x > cutoff)\n",
        "    for i in range(1, lab_img.max() + 1):\n",
        "        yield rle_encoding(lab_img == i)"
      ],
      "execution_count": 0,
      "outputs": []
    },
    {
      "metadata": {
        "id": "uM8Qoyddz9pe",
        "colab_type": "code",
        "colab": {
          "autoexec": {
            "startup": false,
            "wait_interval": 0
          }
        }
      },
      "cell_type": "code",
      "source": [
        "new_test_ids = []\n",
        "rles = []\n",
        "for n, id_ in enumerate(test_ids):\n",
        "    rle = list(prob_to_rles(preds_test_upsampled[n]))\n",
        "    rles.extend(rle)\n",
        "    new_test_ids.extend([id_] * len(rle))"
      ],
      "execution_count": 0,
      "outputs": []
    },
    {
      "metadata": {
        "id": "A6jfP1b7z9sn",
        "colab_type": "code",
        "colab": {
          "autoexec": {
            "startup": false,
            "wait_interval": 0
          }
        }
      },
      "cell_type": "code",
      "source": [
        "sub = pd.DataFrame()\n",
        "sub['ImageId'] = new_test_ids\n",
        "sub['EncodedPixels'] = pd.Series(rles).apply(lambda x: ' '.join(str(y) for y in x))\n",
        "sub.to_csv('submission.csv', index=False)"
      ],
      "execution_count": 0,
      "outputs": []
    },
    {
      "metadata": {
        "id": "Tfn_kNzFz9v1",
        "colab_type": "code",
        "colab": {
          "autoexec": {
            "startup": false,
            "wait_interval": 0
          }
        }
      },
      "cell_type": "code",
      "source": [
        "sub.head()"
      ],
      "execution_count": 0,
      "outputs": []
    },
    {
      "metadata": {
        "id": "dcOx5drGz9zG",
        "colab_type": "code",
        "colab": {
          "autoexec": {
            "startup": false,
            "wait_interval": 0
          }
        }
      },
      "cell_type": "code",
      "source": [
        "from google.colab import files\n",
        "\n",
        "files.download('submission.csv')"
      ],
      "execution_count": 0,
      "outputs": []
    },
    {
      "metadata": {
        "id": "MdY-VKWdz912",
        "colab_type": "code",
        "colab": {
          "autoexec": {
            "startup": false,
            "wait_interval": 0
          }
        }
      },
      "cell_type": "code",
      "source": [
        ""
      ],
      "execution_count": 0,
      "outputs": []
    },
    {
      "metadata": {
        "id": "m2psSZyzz943",
        "colab_type": "code",
        "colab": {
          "autoexec": {
            "startup": false,
            "wait_interval": 0
          }
        }
      },
      "cell_type": "code",
      "source": [
        ""
      ],
      "execution_count": 0,
      "outputs": []
    }
  ]
}